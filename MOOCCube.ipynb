{
  "nbformat": 4,
  "nbformat_minor": 0,
  "metadata": {
    "colab": {
      "name": "MOOCCube.ipynb",
      "provenance": [],
      "collapsed_sections": [],
      "mount_file_id": "1Tub-Z126eEDAW7zTRyQT79b2R2RHyhle",
      "authorship_tag": "ABX9TyPM/br4oJp4ecmm7rxV37WO",
      "include_colab_link": true
    },
    "kernelspec": {
      "name": "python3",
      "display_name": "Python 3"
    },
    "language_info": {
      "name": "python"
    }
  },
  "cells": [
    {
      "cell_type": "markdown",
      "metadata": {
        "id": "view-in-github",
        "colab_type": "text"
      },
      "source": [
        "<a href=\"https://colab.research.google.com/github/LiteraturePro/MOOCCube/blob/master/MOOCCube.ipynb\" target=\"_parent\"><img src=\"https://colab.research.google.com/assets/colab-badge.svg\" alt=\"Open In Colab\"/></a>"
      ]
    },
    {
      "cell_type": "markdown",
      "source": [
        "## **1、挂载数据集**\n",
        "*挂载数据集有两种方式，$\\color{red} {两种方式二选一即可} $*\n",
        "\n",
        "*   方式一通过本地谷歌硬盘加载（数据集压缩包已经存在你的谷歌硬盘中）\n",
        "*   方式二通过远程下载到当前工作目录（你的谷歌硬盘没有数据）\n",
        "\n"
      ],
      "metadata": {
        "id": "sMTSmJWxnTKy"
      }
    },
    {
      "cell_type": "markdown",
      "source": [
        "$\\color{red} {方式一} $"
      ],
      "metadata": {
        "id": "iOIiiLOyt0bv"
      }
    },
    {
      "cell_type": "code",
      "source": [
        "# 方式一\n",
        "# 挂载谷歌硬盘\n",
        "from google.colab import drive\n",
        "drive.mount('/content/gdrive')\n"
      ],
      "metadata": {
        "colab": {
          "base_uri": "https://localhost:8080/"
        },
        "id": "HmX8ZuRkhsT6",
        "outputId": "c3bbd64f-8eb9-441d-93fb-15fba2213db5"
      },
      "execution_count": null,
      "outputs": [
        {
          "output_type": "stream",
          "name": "stdout",
          "text": [
            "Mounted at /content/gdrive\n"
          ]
        }
      ]
    },
    {
      "cell_type": "code",
      "source": [
        "# 方式一\n",
        "# 查看挂载的文件\n",
        "!ls /content/gdrive/MyDrive/"
      ],
      "metadata": {
        "colab": {
          "base_uri": "https://localhost:8080/"
        },
        "id": "52BuCSDeiLSQ",
        "outputId": "3576cea2-81c7-4df3-b78c-fb4b870a06b4"
      },
      "execution_count": null,
      "outputs": [
        {
          "output_type": "stream",
          "name": "stdout",
          "text": [
            "'Colab Notebooks'   MOOCCubeX.zip   YangWenXuan.zip\n"
          ]
        }
      ]
    },
    {
      "cell_type": "code",
      "source": [
        "# 方式一\n",
        "# 查看当前工作目录 \n",
        "import os \n",
        "os.getcwd()"
      ],
      "metadata": {
        "colab": {
          "base_uri": "https://localhost:8080/",
          "height": 35
        },
        "id": "cdP-rUdii8wc",
        "outputId": "04cc636f-c979-4b7e-fc1e-fcf3113dc30d"
      },
      "execution_count": null,
      "outputs": [
        {
          "output_type": "execute_result",
          "data": {
            "application/vnd.google.colaboratory.intrinsic+json": {
              "type": "string"
            },
            "text/plain": [
              "'/content'"
            ]
          },
          "metadata": {},
          "execution_count": 3
        }
      ]
    },
    {
      "cell_type": "code",
      "source": [
        "# 方式一\n",
        "# 解压数据集文件\n",
        "!unzip -o /content/gdrive/MyDrive/MOOCCubeX.zip -d /content"
      ],
      "metadata": {
        "id": "s36W4vAbo__8",
        "outputId": "44d81c0e-2ad5-422d-e798-4ef95e7cd62f",
        "colab": {
          "base_uri": "https://localhost:8080/"
        }
      },
      "execution_count": null,
      "outputs": [
        {
          "output_type": "stream",
          "name": "stdout",
          "text": [
            "Archive:  /content/gdrive/MyDrive/MOOCCubeX.zip\n",
            "   creating: /content/MOOCCubeX/\n",
            "   creating: /content/MOOCCubeX/entities/\n",
            "  inflating: /content/MOOCCubeX/entities/comment.json  \n",
            "  inflating: /content/MOOCCubeX/entities/concept.json  \n",
            "  inflating: /content/MOOCCubeX/entities/course.json  \n",
            "  inflating: /content/MOOCCubeX/entities/other.json  \n",
            "  inflating: /content/MOOCCubeX/entities/paper.json  \n",
            "  inflating: /content/MOOCCubeX/entities/problem.json  \n",
            "  inflating: /content/MOOCCubeX/entities/reply.json  \n",
            "  inflating: /content/MOOCCubeX/entities/school.json  \n",
            "  inflating: /content/MOOCCubeX/entities/teacher.json  \n",
            "  inflating: /content/MOOCCubeX/entities/user.json  \n",
            "  inflating: /content/MOOCCubeX/entities/video.json  \n",
            "   creating: /content/MOOCCubeX/prerequisites/\n",
            "  inflating: /content/MOOCCubeX/prerequisites/cs.json  \n",
            "  inflating: /content/MOOCCubeX/prerequisites/math.json  \n",
            "  inflating: /content/MOOCCubeX/prerequisites/psy.json  \n",
            "   creating: /content/MOOCCubeX/relations/\n",
            " extracting: /content/MOOCCubeX/relations/comment-reply.txt  \n",
            "  inflating: /content/MOOCCubeX/relations/concept-comment.txt  \n",
            "  inflating: /content/MOOCCubeX/relations/concept-other.txt  \n",
            "  inflating: /content/MOOCCubeX/relations/concept-paper.txt  \n",
            "  inflating: /content/MOOCCubeX/relations/concept-problem.txt  \n",
            " extracting: /content/MOOCCubeX/relations/concept-reply.json  \n",
            "  inflating: /content/MOOCCubeX/relations/concept-video.txt  \n",
            "  inflating: /content/MOOCCubeX/relations/course-comment.txt  \n",
            "  inflating: /content/MOOCCubeX/relations/course-field.json  \n",
            "  inflating: /content/MOOCCubeX/relations/course-school.txt  \n",
            "  inflating: /content/MOOCCubeX/relations/course-teacher.txt  \n",
            "  inflating: /content/MOOCCubeX/relations/exercise-problem.txt  \n",
            "  inflating: /content/MOOCCubeX/relations/reply-reply.txt  \n",
            "  inflating: /content/MOOCCubeX/relations/user-comment.txt  \n",
            "  inflating: /content/MOOCCubeX/relations/user-problem.json  \n",
            "  inflating: /content/MOOCCubeX/relations/user-reply.txt  \n",
            "  inflating: /content/MOOCCubeX/relations/user-video.json  \n",
            "  inflating: /content/MOOCCubeX/relations/user-xiaomu.json  \n",
            "  inflating: /content/MOOCCubeX/relations/video_id-ccid.txt  \n"
          ]
        }
      ]
    },
    {
      "cell_type": "markdown",
      "source": [
        "$\\color{red} {方式二} $"
      ],
      "metadata": {
        "id": "olrKKk5UukFx"
      }
    },
    {
      "cell_type": "code",
      "source": [
        "# 方式二\n",
        "import os\n",
        "%cd /content\n",
        "# dowload the file\n",
        "if not os.path.exists('MOOCCubeX.zip'):\n",
        "  !gdown --id 15juvWAJFWfmiArsy2UUiIe0Sx_-BIM39 \\\n",
        "          -O MOOCCubeX.zip"
      ],
      "metadata": {
        "id": "avjtD6gQuneF",
        "outputId": "30a8ecb4-81e8-48b6-e9ce-66fa96b8d14e",
        "colab": {
          "base_uri": "https://localhost:8080/"
        }
      },
      "execution_count": 2,
      "outputs": [
        {
          "output_type": "stream",
          "name": "stdout",
          "text": [
            "/content\n",
            "Downloading...\n",
            "From: https://drive.google.com/uc?id=15juvWAJFWfmiArsy2UUiIe0Sx_-BIM39\n",
            "To: /content/MOOCCubeX.zip\n",
            "100% 5.42G/5.42G [01:38<00:00, 55.1MB/s]\n"
          ]
        }
      ]
    },
    {
      "cell_type": "code",
      "source": [
        "# 方式二\n",
        "# 解压数据集文件\n",
        "!unzip -o MOOCCubeX.zip -d /content\n"
      ],
      "metadata": {
        "id": "Qel7gznTvSx8",
        "outputId": "282c03db-000f-42a7-e73d-d71604685c9c",
        "colab": {
          "base_uri": "https://localhost:8080/"
        }
      },
      "execution_count": 3,
      "outputs": [
        {
          "output_type": "stream",
          "name": "stdout",
          "text": [
            "Archive:  MOOCCubeX.zip\n",
            "   creating: /content/MOOCCubeX/\n",
            "   creating: /content/MOOCCubeX/entities/\n",
            "  inflating: /content/MOOCCubeX/entities/comment.json  \n",
            "  inflating: /content/MOOCCubeX/entities/concept.json  \n",
            "  inflating: /content/MOOCCubeX/entities/course.json  \n",
            "  inflating: /content/MOOCCubeX/entities/other.json  \n",
            "  inflating: /content/MOOCCubeX/entities/paper.json  \n",
            "  inflating: /content/MOOCCubeX/entities/problem.json  \n",
            "  inflating: /content/MOOCCubeX/entities/reply.json  \n",
            "  inflating: /content/MOOCCubeX/entities/school.json  \n",
            "  inflating: /content/MOOCCubeX/entities/teacher.json  \n",
            "  inflating: /content/MOOCCubeX/entities/user.json  \n",
            "  inflating: /content/MOOCCubeX/entities/video.json  \n",
            "   creating: /content/MOOCCubeX/prerequisites/\n",
            "  inflating: /content/MOOCCubeX/prerequisites/cs.json  \n",
            "  inflating: /content/MOOCCubeX/prerequisites/math.json  \n",
            "  inflating: /content/MOOCCubeX/prerequisites/psy.json  \n",
            "   creating: /content/MOOCCubeX/relations/\n",
            " extracting: /content/MOOCCubeX/relations/comment-reply.txt  \n",
            "  inflating: /content/MOOCCubeX/relations/concept-comment.txt  \n",
            "  inflating: /content/MOOCCubeX/relations/concept-other.txt  \n",
            "  inflating: /content/MOOCCubeX/relations/concept-paper.txt  \n",
            "  inflating: /content/MOOCCubeX/relations/concept-problem.txt  \n",
            " extracting: /content/MOOCCubeX/relations/concept-reply.json  \n",
            "  inflating: /content/MOOCCubeX/relations/concept-video.txt  \n",
            "  inflating: /content/MOOCCubeX/relations/course-comment.txt  \n",
            "  inflating: /content/MOOCCubeX/relations/course-field.json  \n",
            "  inflating: /content/MOOCCubeX/relations/course-school.txt  \n",
            "  inflating: /content/MOOCCubeX/relations/course-teacher.txt  \n",
            "  inflating: /content/MOOCCubeX/relations/exercise-problem.txt  \n",
            "  inflating: /content/MOOCCubeX/relations/reply-reply.txt  \n",
            "  inflating: /content/MOOCCubeX/relations/user-comment.txt  \n",
            "  inflating: /content/MOOCCubeX/relations/user-problem.json  \n",
            "  inflating: /content/MOOCCubeX/relations/user-reply.txt  \n",
            "  inflating: /content/MOOCCubeX/relations/user-video.json  \n",
            "  inflating: /content/MOOCCubeX/relations/user-xiaomu.json  \n",
            "  inflating: /content/MOOCCubeX/relations/video_id-ccid.txt  \n"
          ]
        }
      ]
    },
    {
      "cell_type": "markdown",
      "source": [
        "\n",
        "## **2、查看数据集**"
      ],
      "metadata": {
        "id": "ktjwPkeivfFI"
      }
    },
    {
      "cell_type": "code",
      "source": [
        "!sudo apt-get install tree -y\n",
        "!cd /content/MOOCCubeX\n",
        "!tree"
      ],
      "metadata": {
        "id": "bu30uShD1m1c",
        "outputId": "16d8319d-8af6-472d-8430-e1f7f21cbc12",
        "colab": {
          "base_uri": "https://localhost:8080/"
        }
      },
      "execution_count": 6,
      "outputs": [
        {
          "output_type": "stream",
          "name": "stdout",
          "text": [
            "Reading package lists... Done\n",
            "Building dependency tree       \n",
            "Reading state information... Done\n",
            "tree is already the newest version (1.7.0-5).\n",
            "0 upgraded, 0 newly installed, 0 to remove and 37 not upgraded.\n",
            ".\n",
            "├── MOOCCubeX\n",
            "│   ├── entities\n",
            "│   │   ├── comment.json\n",
            "│   │   ├── concept.json\n",
            "│   │   ├── course.json\n",
            "│   │   ├── other.json\n",
            "│   │   ├── paper.json\n",
            "│   │   ├── problem.json\n",
            "│   │   ├── reply.json\n",
            "│   │   ├── school.json\n",
            "│   │   ├── teacher.json\n",
            "│   │   ├── user.json\n",
            "│   │   └── video.json\n",
            "│   ├── prerequisites\n",
            "│   │   ├── cs.json\n",
            "│   │   ├── math.json\n",
            "│   │   └── psy.json\n",
            "│   └── relations\n",
            "│       ├── comment-reply.txt\n",
            "│       ├── concept-comment.txt\n",
            "│       ├── concept-other.txt\n",
            "│       ├── concept-paper.txt\n",
            "│       ├── concept-problem.txt\n",
            "│       ├── concept-reply.json\n",
            "│       ├── concept-video.txt\n",
            "│       ├── course-comment.txt\n",
            "│       ├── course-field.json\n",
            "│       ├── course-school.txt\n",
            "│       ├── course-teacher.txt\n",
            "│       ├── exercise-problem.txt\n",
            "│       ├── reply-reply.txt\n",
            "│       ├── user-comment.txt\n",
            "│       ├── user-problem.json\n",
            "│       ├── user-reply.txt\n",
            "│       ├── user-video.json\n",
            "│       ├── user-xiaomu.json\n",
            "│       └── video_id-ccid.txt\n",
            "├── MOOCCubeX.zip\n",
            "└── sample_data\n",
            "    ├── anscombe.json\n",
            "    ├── california_housing_test.csv\n",
            "    ├── california_housing_train.csv\n",
            "    ├── mnist_test.csv\n",
            "    ├── mnist_train_small.csv\n",
            "    └── README.md\n",
            "\n",
            "5 directories, 40 files\n"
          ]
        }
      ]
    },
    {
      "cell_type": "markdown",
      "source": [
        "\n",
        "## **3、分析数据集**"
      ],
      "metadata": {
        "id": "lI2PKHIS4Ei2"
      }
    },
    {
      "cell_type": "code",
      "source": [
        ""
      ],
      "metadata": {
        "id": "nXZhATWz4DmC"
      },
      "execution_count": null,
      "outputs": []
    }
  ]
}