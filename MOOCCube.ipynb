{
  "nbformat": 4,
  "nbformat_minor": 0,
  "metadata": {
    "colab": {
      "name": "MOOCCube.ipynb",
      "provenance": [],
      "collapsed_sections": [],
      "mount_file_id": "1Tub-Z126eEDAW7zTRyQT79b2R2RHyhle",
      "authorship_tag": "ABX9TyMoYS2McNBW2X2GNqkgFmRB",
      "include_colab_link": true
    },
    "kernelspec": {
      "name": "python3",
      "display_name": "Python 3"
    },
    "language_info": {
      "name": "python"
    }
  },
  "cells": [
    {
      "cell_type": "markdown",
      "metadata": {
        "id": "view-in-github",
        "colab_type": "text"
      },
      "source": [
        "<a href=\"https://colab.research.google.com/github/LiteraturePro/MOOCCube/blob/master/MOOCCube.ipynb\" target=\"_parent\"><img src=\"https://colab.research.google.com/assets/colab-badge.svg\" alt=\"Open In Colab\"/></a>"
      ]
    },
    {
      "cell_type": "code",
      "execution_count": null,
      "metadata": {
        "colab": {
          "base_uri": "https://localhost:8080/"
        },
        "id": "dS3TipVghSXI",
        "outputId": "88c392ef-9d5f-46ad-8b2e-e80f5b2a4d58"
      },
      "outputs": [
        {
          "output_type": "stream",
          "name": "stdout",
          "text": [
            "666\n"
          ]
        }
      ],
      "source": [
        "print(666)"
      ]
    },
    {
      "cell_type": "code",
      "source": [
        "# 挂载谷歌硬盘\n",
        "from google.colab import drive\n",
        "drive.mount('/content/gdrive')\n"
      ],
      "metadata": {
        "colab": {
          "base_uri": "https://localhost:8080/"
        },
        "id": "HmX8ZuRkhsT6",
        "outputId": "05b12191-afa9-44ac-82ce-a5b3695010b4"
      },
      "execution_count": null,
      "outputs": [
        {
          "output_type": "stream",
          "name": "stdout",
          "text": [
            "Mounted at /content/gdrive\n"
          ]
        }
      ]
    },
    {
      "cell_type": "code",
      "source": [
        "# 查看挂载的文件\n",
        "!ls /content/gdrive/MyDrive/"
      ],
      "metadata": {
        "colab": {
          "base_uri": "https://localhost:8080/"
        },
        "id": "52BuCSDeiLSQ",
        "outputId": "00c51a69-e0ba-4acd-bf3e-fa76a100ab7b"
      },
      "execution_count": null,
      "outputs": [
        {
          "output_type": "stream",
          "name": "stdout",
          "text": [
            "'Colab Notebooks'   MOOCCubeX.zip\n"
          ]
        }
      ]
    },
    {
      "cell_type": "code",
      "source": [
        "#查看当前工作目录 \n",
        "import os \n",
        "os.getcwd()"
      ],
      "metadata": {
        "colab": {
          "base_uri": "https://localhost:8080/",
          "height": 35
        },
        "id": "cdP-rUdii8wc",
        "outputId": "cea11ba1-7616-4a6d-c6a3-fa11ffacfcaa"
      },
      "execution_count": null,
      "outputs": [
        {
          "output_type": "execute_result",
          "data": {
            "application/vnd.google.colaboratory.intrinsic+json": {
              "type": "string"
            },
            "text/plain": [
              "'/content'"
            ]
          },
          "metadata": {},
          "execution_count": 7
        }
      ]
    }
  ]
}